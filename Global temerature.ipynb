{
 "cells": [
  {
   "cell_type": "code",
   "execution_count": 36,
   "id": "decent-balloon",
   "metadata": {},
   "outputs": [],
   "source": [
    "import pandas as pd\n",
    "import numpy as np\n",
    "import matplotlib\n",
    "import matplotlib.pyplot as plt\n",
    "import os\n",
    "import csv\n",
    "import seaborn as sns"
   ]
  },
  {
   "cell_type": "markdown",
   "id": "drawn-vacation",
   "metadata": {},
   "source": [
    "### Data Introduction"
   ]
  },
  {
   "cell_type": "code",
   "execution_count": 37,
   "id": "visible-fortune",
   "metadata": {},
   "outputs": [],
   "source": [
    "Data=pd.read_csv(r\"G:\\study\\Data Science & Machine Learning\\temp.csv\")"
   ]
  },
  {
   "cell_type": "code",
   "execution_count": 38,
   "id": "worst-wallace",
   "metadata": {},
   "outputs": [
    {
     "name": "stdout",
     "output_type": "stream",
     "text": [
      "<class 'pandas.core.frame.DataFrame'>\n",
      "RangeIndex: 272832 entries, 0 to 272831\n",
      "Data columns (total 5 columns):\n",
      " #   Column                   Non-Null Count   Dtype  \n",
      "---  ------                   --------------   -----  \n",
      " 0   Temperature - (Celsius)  272832 non-null  float64\n",
      " 1    Year                    272832 non-null  int64  \n",
      " 2    Statistics              272832 non-null  object \n",
      " 3    Country                 272832 non-null  object \n",
      " 4    ISO3                    272832 non-null  object \n",
      "dtypes: float64(1), int64(1), object(3)\n",
      "memory usage: 10.4+ MB\n"
     ]
    }
   ],
   "source": [
    "Data.info()"
   ]
  },
  {
   "cell_type": "code",
   "execution_count": 39,
   "id": "urban-revelation",
   "metadata": {},
   "outputs": [
    {
     "data": {
      "text/html": [
       "<div>\n",
       "<style scoped>\n",
       "    .dataframe tbody tr th:only-of-type {\n",
       "        vertical-align: middle;\n",
       "    }\n",
       "\n",
       "    .dataframe tbody tr th {\n",
       "        vertical-align: top;\n",
       "    }\n",
       "\n",
       "    .dataframe thead th {\n",
       "        text-align: right;\n",
       "    }\n",
       "</style>\n",
       "<table border=\"1\" class=\"dataframe\">\n",
       "  <thead>\n",
       "    <tr style=\"text-align: right;\">\n",
       "      <th></th>\n",
       "      <th>Temperature - (Celsius)</th>\n",
       "      <th>Year</th>\n",
       "      <th>Statistics</th>\n",
       "      <th>Country</th>\n",
       "      <th>ISO3</th>\n",
       "    </tr>\n",
       "  </thead>\n",
       "  <tbody>\n",
       "    <tr>\n",
       "      <th>0</th>\n",
       "      <td>-0.03780</td>\n",
       "      <td>1901</td>\n",
       "      <td>Jan Average</td>\n",
       "      <td>Afghanistan</td>\n",
       "      <td>AFG</td>\n",
       "    </tr>\n",
       "    <tr>\n",
       "      <th>1</th>\n",
       "      <td>2.42348</td>\n",
       "      <td>1901</td>\n",
       "      <td>Feb Average</td>\n",
       "      <td>Afghanistan</td>\n",
       "      <td>AFG</td>\n",
       "    </tr>\n",
       "    <tr>\n",
       "      <th>2</th>\n",
       "      <td>9.36230</td>\n",
       "      <td>1901</td>\n",
       "      <td>Mar Average</td>\n",
       "      <td>Afghanistan</td>\n",
       "      <td>AFG</td>\n",
       "    </tr>\n",
       "    <tr>\n",
       "      <th>3</th>\n",
       "      <td>13.55640</td>\n",
       "      <td>1901</td>\n",
       "      <td>Apr Average</td>\n",
       "      <td>Afghanistan</td>\n",
       "      <td>AFG</td>\n",
       "    </tr>\n",
       "    <tr>\n",
       "      <th>4</th>\n",
       "      <td>18.15090</td>\n",
       "      <td>1901</td>\n",
       "      <td>May Average</td>\n",
       "      <td>Afghanistan</td>\n",
       "      <td>AFG</td>\n",
       "    </tr>\n",
       "    <tr>\n",
       "      <th>...</th>\n",
       "      <td>...</td>\n",
       "      <td>...</td>\n",
       "      <td>...</td>\n",
       "      <td>...</td>\n",
       "      <td>...</td>\n",
       "    </tr>\n",
       "    <tr>\n",
       "      <th>272827</th>\n",
       "      <td>18.75550</td>\n",
       "      <td>2016</td>\n",
       "      <td>Aug Average</td>\n",
       "      <td>Zimbabwe</td>\n",
       "      <td>ZWE</td>\n",
       "    </tr>\n",
       "    <tr>\n",
       "      <th>272828</th>\n",
       "      <td>22.99190</td>\n",
       "      <td>2016</td>\n",
       "      <td>Sep Average</td>\n",
       "      <td>Zimbabwe</td>\n",
       "      <td>ZWE</td>\n",
       "    </tr>\n",
       "    <tr>\n",
       "      <th>272829</th>\n",
       "      <td>25.86640</td>\n",
       "      <td>2016</td>\n",
       "      <td>Oct Average</td>\n",
       "      <td>Zimbabwe</td>\n",
       "      <td>ZWE</td>\n",
       "    </tr>\n",
       "    <tr>\n",
       "      <th>272830</th>\n",
       "      <td>25.85150</td>\n",
       "      <td>2016</td>\n",
       "      <td>Nov Average</td>\n",
       "      <td>Zimbabwe</td>\n",
       "      <td>ZWE</td>\n",
       "    </tr>\n",
       "    <tr>\n",
       "      <th>272831</th>\n",
       "      <td>25.06930</td>\n",
       "      <td>2016</td>\n",
       "      <td>Dec Average</td>\n",
       "      <td>Zimbabwe</td>\n",
       "      <td>ZWE</td>\n",
       "    </tr>\n",
       "  </tbody>\n",
       "</table>\n",
       "<p>272832 rows × 5 columns</p>\n",
       "</div>"
      ],
      "text/plain": [
       "        Temperature - (Celsius)   Year    Statistics       Country  ISO3\n",
       "0                      -0.03780   1901   Jan Average   Afghanistan   AFG\n",
       "1                       2.42348   1901   Feb Average   Afghanistan   AFG\n",
       "2                       9.36230   1901   Mar Average   Afghanistan   AFG\n",
       "3                      13.55640   1901   Apr Average   Afghanistan   AFG\n",
       "4                      18.15090   1901   May Average   Afghanistan   AFG\n",
       "...                         ...    ...           ...           ...   ...\n",
       "272827                 18.75550   2016   Aug Average      Zimbabwe   ZWE\n",
       "272828                 22.99190   2016   Sep Average      Zimbabwe   ZWE\n",
       "272829                 25.86640   2016   Oct Average      Zimbabwe   ZWE\n",
       "272830                 25.85150   2016   Nov Average      Zimbabwe   ZWE\n",
       "272831                 25.06930   2016   Dec Average      Zimbabwe   ZWE\n",
       "\n",
       "[272832 rows x 5 columns]"
      ]
     },
     "execution_count": 39,
     "metadata": {},
     "output_type": "execute_result"
    }
   ],
   "source": [
    "Data"
   ]
  },
  {
   "cell_type": "code",
   "execution_count": 40,
   "id": "recreational-breeding",
   "metadata": {},
   "outputs": [
    {
     "data": {
      "text/plain": [
       "Temperature - (Celsius)    0\n",
       " Year                      0\n",
       " Statistics                0\n",
       " Country                   0\n",
       " ISO3                      0\n",
       "dtype: int64"
      ]
     },
     "execution_count": 40,
     "metadata": {},
     "output_type": "execute_result"
    }
   ],
   "source": [
    "Data.isnull().sum()"
   ]
  },
  {
   "cell_type": "code",
   "execution_count": 41,
   "id": "narrow-background",
   "metadata": {},
   "outputs": [
    {
     "data": {
      "text/plain": [
       "(272832, 5)"
      ]
     },
     "execution_count": 41,
     "metadata": {},
     "output_type": "execute_result"
    }
   ],
   "source": [
    "Data.shape"
   ]
  },
  {
   "cell_type": "code",
   "execution_count": 42,
   "id": "closed-refrigerator",
   "metadata": {},
   "outputs": [
    {
     "data": {
      "text/html": [
       "<div>\n",
       "<style scoped>\n",
       "    .dataframe tbody tr th:only-of-type {\n",
       "        vertical-align: middle;\n",
       "    }\n",
       "\n",
       "    .dataframe tbody tr th {\n",
       "        vertical-align: top;\n",
       "    }\n",
       "\n",
       "    .dataframe thead th {\n",
       "        text-align: right;\n",
       "    }\n",
       "</style>\n",
       "<table border=\"1\" class=\"dataframe\">\n",
       "  <thead>\n",
       "    <tr style=\"text-align: right;\">\n",
       "      <th></th>\n",
       "      <th>Temperature - (Celsius)</th>\n",
       "      <th>Year</th>\n",
       "      <th>Statistics</th>\n",
       "      <th>Country</th>\n",
       "      <th>ISO3</th>\n",
       "    </tr>\n",
       "  </thead>\n",
       "  <tbody>\n",
       "    <tr>\n",
       "      <th>0</th>\n",
       "      <td>-0.03780</td>\n",
       "      <td>1901</td>\n",
       "      <td>Jan Average</td>\n",
       "      <td>Afghanistan</td>\n",
       "      <td>AFG</td>\n",
       "    </tr>\n",
       "    <tr>\n",
       "      <th>1</th>\n",
       "      <td>2.42348</td>\n",
       "      <td>1901</td>\n",
       "      <td>Feb Average</td>\n",
       "      <td>Afghanistan</td>\n",
       "      <td>AFG</td>\n",
       "    </tr>\n",
       "    <tr>\n",
       "      <th>2</th>\n",
       "      <td>9.36230</td>\n",
       "      <td>1901</td>\n",
       "      <td>Mar Average</td>\n",
       "      <td>Afghanistan</td>\n",
       "      <td>AFG</td>\n",
       "    </tr>\n",
       "    <tr>\n",
       "      <th>3</th>\n",
       "      <td>13.55640</td>\n",
       "      <td>1901</td>\n",
       "      <td>Apr Average</td>\n",
       "      <td>Afghanistan</td>\n",
       "      <td>AFG</td>\n",
       "    </tr>\n",
       "    <tr>\n",
       "      <th>4</th>\n",
       "      <td>18.15090</td>\n",
       "      <td>1901</td>\n",
       "      <td>May Average</td>\n",
       "      <td>Afghanistan</td>\n",
       "      <td>AFG</td>\n",
       "    </tr>\n",
       "  </tbody>\n",
       "</table>\n",
       "</div>"
      ],
      "text/plain": [
       "   Temperature - (Celsius)   Year    Statistics       Country  ISO3\n",
       "0                 -0.03780   1901   Jan Average   Afghanistan   AFG\n",
       "1                  2.42348   1901   Feb Average   Afghanistan   AFG\n",
       "2                  9.36230   1901   Mar Average   Afghanistan   AFG\n",
       "3                 13.55640   1901   Apr Average   Afghanistan   AFG\n",
       "4                 18.15090   1901   May Average   Afghanistan   AFG"
      ]
     },
     "execution_count": 42,
     "metadata": {},
     "output_type": "execute_result"
    }
   ],
   "source": [
    "Data.head()"
   ]
  },
  {
   "cell_type": "code",
   "execution_count": 43,
   "id": "adolescent-affiliation",
   "metadata": {},
   "outputs": [
    {
     "data": {
      "text/html": [
       "<div>\n",
       "<style scoped>\n",
       "    .dataframe tbody tr th:only-of-type {\n",
       "        vertical-align: middle;\n",
       "    }\n",
       "\n",
       "    .dataframe tbody tr th {\n",
       "        vertical-align: top;\n",
       "    }\n",
       "\n",
       "    .dataframe thead th {\n",
       "        text-align: right;\n",
       "    }\n",
       "</style>\n",
       "<table border=\"1\" class=\"dataframe\">\n",
       "  <thead>\n",
       "    <tr style=\"text-align: right;\">\n",
       "      <th></th>\n",
       "      <th>Temperature - (Celsius)</th>\n",
       "      <th>Year</th>\n",
       "    </tr>\n",
       "  </thead>\n",
       "  <tbody>\n",
       "    <tr>\n",
       "      <th>count</th>\n",
       "      <td>272832.000000</td>\n",
       "      <td>272832.000000</td>\n",
       "    </tr>\n",
       "    <tr>\n",
       "      <th>mean</th>\n",
       "      <td>18.631498</td>\n",
       "      <td>1958.500000</td>\n",
       "    </tr>\n",
       "    <tr>\n",
       "      <th>std</th>\n",
       "      <td>10.248635</td>\n",
       "      <td>33.485133</td>\n",
       "    </tr>\n",
       "    <tr>\n",
       "      <th>min</th>\n",
       "      <td>-34.121000</td>\n",
       "      <td>1901.000000</td>\n",
       "    </tr>\n",
       "    <tr>\n",
       "      <th>25%</th>\n",
       "      <td>13.231575</td>\n",
       "      <td>1929.750000</td>\n",
       "    </tr>\n",
       "    <tr>\n",
       "      <th>50%</th>\n",
       "      <td>22.736300</td>\n",
       "      <td>1958.500000</td>\n",
       "    </tr>\n",
       "    <tr>\n",
       "      <th>75%</th>\n",
       "      <td>25.797700</td>\n",
       "      <td>1987.250000</td>\n",
       "    </tr>\n",
       "    <tr>\n",
       "      <th>max</th>\n",
       "      <td>38.566900</td>\n",
       "      <td>2016.000000</td>\n",
       "    </tr>\n",
       "  </tbody>\n",
       "</table>\n",
       "</div>"
      ],
      "text/plain": [
       "       Temperature - (Celsius)           Year\n",
       "count            272832.000000  272832.000000\n",
       "mean                 18.631498    1958.500000\n",
       "std                  10.248635      33.485133\n",
       "min                 -34.121000    1901.000000\n",
       "25%                  13.231575    1929.750000\n",
       "50%                  22.736300    1958.500000\n",
       "75%                  25.797700    1987.250000\n",
       "max                  38.566900    2016.000000"
      ]
     },
     "execution_count": 43,
     "metadata": {},
     "output_type": "execute_result"
    }
   ],
   "source": [
    "Data.describe()"
   ]
  },
  {
   "cell_type": "code",
   "execution_count": 44,
   "id": "substantial-society",
   "metadata": {},
   "outputs": [],
   "source": [
    "df=pd.DataFrame(Data)"
   ]
  },
  {
   "cell_type": "code",
   "execution_count": 45,
   "id": "interpreted-rover",
   "metadata": {},
   "outputs": [
    {
     "data": {
      "text/plain": [
       "pandas.core.frame.DataFrame"
      ]
     },
     "execution_count": 45,
     "metadata": {},
     "output_type": "execute_result"
    }
   ],
   "source": [
    "type(df)"
   ]
  },
  {
   "cell_type": "markdown",
   "id": "built-black",
   "metadata": {},
   "source": [
    "### Delete DataFrame"
   ]
  },
  {
   "cell_type": "code",
   "execution_count": 46,
   "id": "pretty-compiler",
   "metadata": {},
   "outputs": [],
   "source": [
    "del df"
   ]
  },
  {
   "cell_type": "code",
   "execution_count": 47,
   "id": "growing-print",
   "metadata": {},
   "outputs": [
    {
     "data": {
      "text/plain": [
       "['Temperature - (Celsius)', ' Year', ' Statistics', ' Country', ' ISO3']"
      ]
     },
     "execution_count": 47,
     "metadata": {},
     "output_type": "execute_result"
    }
   ],
   "source": [
    "list(Data.columns)"
   ]
  },
  {
   "cell_type": "markdown",
   "id": "juvenile-orange",
   "metadata": {},
   "source": [
    "### Strip Column name"
   ]
  },
  {
   "cell_type": "code",
   "execution_count": 48,
   "id": "apart-namibia",
   "metadata": {},
   "outputs": [],
   "source": [
    "Data.rename(columns=lambda x:x.strip(),inplace=True)"
   ]
  },
  {
   "cell_type": "markdown",
   "id": "imported-theology",
   "metadata": {},
   "source": [
    "### Unique Country name"
   ]
  },
  {
   "cell_type": "code",
   "execution_count": 49,
   "id": "editorial-rebound",
   "metadata": {},
   "outputs": [
    {
     "data": {
      "text/plain": [
       "array([' Afghanistan', ' Albania', ' Algeria', ' Andorra', ' Angola',\n",
       "       ' Antigua and Barbuda', ' Argentina', ' Armenia', ' Australia',\n",
       "       ' Austria', ' Azerbaijan', ' The Bahamas', ' Bahrain',\n",
       "       ' Bangladesh', ' Barbados', ' Belarus', ' Belgium', ' Belize',\n",
       "       ' Benin', ' Bhutan', ' Bolivia', ' Bosnia and Herzegovina',\n",
       "       ' Botswana', ' Brazil', ' Brunei', ' Bulgaria', ' Burkina Faso',\n",
       "       ' Burundi', ' Cambodia', ' Cameroon', ' Canada', ' Cape Verde',\n",
       "       ' Central African Republic', ' Chad', ' Chile', ' China',\n",
       "       ' Colombia', ' Comoros', ' Congo (Democratic Republic of the)',\n",
       "       ' Congo (Republic of the)', ' Costa Rica', \" Cote d'Ivoire\",\n",
       "       ' Croatia', ' Cuba', ' Cyprus', ' Czech Republic', ' Denmark',\n",
       "       ' Djibouti', ' Dominica', ' Dominican Republic', ' Ecuador',\n",
       "       ' Egypt', ' El Salvador', ' Equatorial Guinea', ' Eritrea',\n",
       "       ' Estonia', ' Ethiopia', ' Faroe Islands',\n",
       "       ' Federated States of Micronesia', ' Fiji', ' Finland', ' France',\n",
       "       ' Gabon', ' Gambia', ' Georgia', ' Germany', ' Ghana', ' Greece',\n",
       "       ' Greenland', ' Grenada', ' Guatemala', ' Guinea',\n",
       "       ' Guinea-Bissau', ' Guyana', ' Haiti', ' Honduras', ' Hungary',\n",
       "       ' Iceland', ' India', ' Indonesia', ' Iran', ' Iraq', ' Ireland',\n",
       "       ' Israel', ' Italy', ' Jamaica', ' Japan', ' Jordan',\n",
       "       ' Kazakhstan', ' Kenya', ' Kiribati',\n",
       "       \" Democratic People's Republic of Korea\", ' Republic of Korea',\n",
       "       ' Kuwait', ' Kyrgyzstan', ' Laos', ' Latvia', ' Lebanon',\n",
       "       ' Lesotho', ' Liberia', ' Libya', ' Liechtenstein', ' Lithuania',\n",
       "       ' Luxembourg', ' Macedonia', ' Madagascar', ' Malawi', ' Malaysia',\n",
       "       ' Maldives', ' Mali', ' Malta', ' Marshall Islands', ' Mauritania',\n",
       "       ' Mauritius', ' Mexico', ' Moldova', ' Monaco', ' Mongolia',\n",
       "       ' Morocco', ' Mozambique', ' Myanmar (Burma)', ' Namibia',\n",
       "       ' Nepal', ' Netherlands', ' New Caledonia', ' New Zealand',\n",
       "       ' Nicaragua', ' Niger', ' Nigeria', ' Northern Mariana Islands',\n",
       "       ' Norway', ' Oman', ' Pakistan', ' Palau', ' Panama',\n",
       "       ' Papua New Guinea', ' Paraguay', ' Peru', ' Philippines',\n",
       "       ' Poland', ' Portugal', ' Puerto Rico', ' Qatar',\n",
       "       ' Republic of Montenegro', ' Republic of Serbia', ' Romania',\n",
       "       ' Russia', ' Rwanda', ' Samoa', ' Sao Tome and Principe',\n",
       "       ' Saudi Arabia', ' Senegal', ' Seychelles', ' Sierra Leone',\n",
       "       ' Singapore', ' Slovakia', ' Slovenia', ' Solomon Islands',\n",
       "       ' Somalia', ' South Africa', ' South Sudan', ' Spain',\n",
       "       ' Sri Lanka', ' St. Kitts and Nevis', ' St. Lucia',\n",
       "       ' St. Vincent and the Grenadines', ' Sudan', ' Suriname',\n",
       "       ' Swaziland', ' Sweden', ' Switzerland', ' Syria', ' Tajikistan',\n",
       "       ' United Republic of Tanzania', ' Thailand', ' Timor Leste',\n",
       "       ' Togo', ' Tonga', ' Trinidad and Tobago', ' Tunisia', ' Turkey',\n",
       "       ' Turkmenistan', ' Tuvalu', ' Uganda', ' Ukraine',\n",
       "       ' United Arab Emirates', ' United Kingdom', ' United States',\n",
       "       ' Uruguay', ' Uzbekistan', ' Vanuatu', ' Venezuela', ' Vietnam',\n",
       "       ' Yemen', ' Zambia', ' Zimbabwe'], dtype=object)"
      ]
     },
     "execution_count": 49,
     "metadata": {},
     "output_type": "execute_result"
    }
   ],
   "source": [
    "Data.Country.unique()"
   ]
  },
  {
   "cell_type": "markdown",
   "id": "inside-occurrence",
   "metadata": {},
   "source": [
    "### Countriwise no of data"
   ]
  },
  {
   "cell_type": "code",
   "execution_count": 50,
   "id": "pressed-blanket",
   "metadata": {},
   "outputs": [
    {
     "data": {
      "text/plain": [
       " Liberia                           1392\n",
       " Federated States of Micronesia    1392\n",
       " United Republic of Tanzania       1392\n",
       " Mali                              1392\n",
       " Equatorial Guinea                 1392\n",
       "                                   ... \n",
       " Libya                             1392\n",
       " Norway                            1392\n",
       " Brazil                            1392\n",
       " Kazakhstan                        1392\n",
       " Cuba                              1392\n",
       "Name: Country, Length: 196, dtype: int64"
      ]
     },
     "execution_count": 50,
     "metadata": {},
     "output_type": "execute_result"
    }
   ],
   "source": [
    "Data.Country.value_counts()"
   ]
  },
  {
   "cell_type": "code",
   "execution_count": 51,
   "id": "metallic-signal",
   "metadata": {},
   "outputs": [
    {
     "data": {
      "text/plain": [
       "196"
      ]
     },
     "execution_count": 51,
     "metadata": {},
     "output_type": "execute_result"
    }
   ],
   "source": [
    "Data.Country.nunique()"
   ]
  },
  {
   "cell_type": "markdown",
   "id": "registered-bulgarian",
   "metadata": {},
   "source": [
    "### Rename column name"
   ]
  },
  {
   "cell_type": "code",
   "execution_count": 52,
   "id": "difficult-tulsa",
   "metadata": {},
   "outputs": [],
   "source": [
    "Data.rename(columns={'Temperature - (Celsius)':'Temp(c)'}, inplace=True)"
   ]
  },
  {
   "cell_type": "code",
   "execution_count": 53,
   "id": "straight-container",
   "metadata": {},
   "outputs": [
    {
     "data": {
      "text/plain": [
       "['Temp(c)', 'Year', 'Statistics', 'Country', 'ISO3']"
      ]
     },
     "execution_count": 53,
     "metadata": {},
     "output_type": "execute_result"
    }
   ],
   "source": [
    "list(Data.columns)"
   ]
  },
  {
   "cell_type": "markdown",
   "id": "wicked-internet",
   "metadata": {},
   "source": [
    "### Adding Month"
   ]
  },
  {
   "cell_type": "code",
   "execution_count": 54,
   "id": "strong-space",
   "metadata": {},
   "outputs": [],
   "source": [
    "Data['Month']=Data['Statistics'].str[:4]"
   ]
  },
  {
   "cell_type": "code",
   "execution_count": 55,
   "id": "serious-holmes",
   "metadata": {},
   "outputs": [
    {
     "data": {
      "text/html": [
       "<div>\n",
       "<style scoped>\n",
       "    .dataframe tbody tr th:only-of-type {\n",
       "        vertical-align: middle;\n",
       "    }\n",
       "\n",
       "    .dataframe tbody tr th {\n",
       "        vertical-align: top;\n",
       "    }\n",
       "\n",
       "    .dataframe thead th {\n",
       "        text-align: right;\n",
       "    }\n",
       "</style>\n",
       "<table border=\"1\" class=\"dataframe\">\n",
       "  <thead>\n",
       "    <tr style=\"text-align: right;\">\n",
       "      <th></th>\n",
       "      <th>Temp(c)</th>\n",
       "      <th>Year</th>\n",
       "      <th>Statistics</th>\n",
       "      <th>Country</th>\n",
       "      <th>ISO3</th>\n",
       "      <th>Month</th>\n",
       "    </tr>\n",
       "  </thead>\n",
       "  <tbody>\n",
       "    <tr>\n",
       "      <th>0</th>\n",
       "      <td>-0.03780</td>\n",
       "      <td>1901</td>\n",
       "      <td>Jan Average</td>\n",
       "      <td>Afghanistan</td>\n",
       "      <td>AFG</td>\n",
       "      <td>Jan</td>\n",
       "    </tr>\n",
       "    <tr>\n",
       "      <th>1</th>\n",
       "      <td>2.42348</td>\n",
       "      <td>1901</td>\n",
       "      <td>Feb Average</td>\n",
       "      <td>Afghanistan</td>\n",
       "      <td>AFG</td>\n",
       "      <td>Feb</td>\n",
       "    </tr>\n",
       "    <tr>\n",
       "      <th>2</th>\n",
       "      <td>9.36230</td>\n",
       "      <td>1901</td>\n",
       "      <td>Mar Average</td>\n",
       "      <td>Afghanistan</td>\n",
       "      <td>AFG</td>\n",
       "      <td>Mar</td>\n",
       "    </tr>\n",
       "    <tr>\n",
       "      <th>3</th>\n",
       "      <td>13.55640</td>\n",
       "      <td>1901</td>\n",
       "      <td>Apr Average</td>\n",
       "      <td>Afghanistan</td>\n",
       "      <td>AFG</td>\n",
       "      <td>Apr</td>\n",
       "    </tr>\n",
       "    <tr>\n",
       "      <th>4</th>\n",
       "      <td>18.15090</td>\n",
       "      <td>1901</td>\n",
       "      <td>May Average</td>\n",
       "      <td>Afghanistan</td>\n",
       "      <td>AFG</td>\n",
       "      <td>May</td>\n",
       "    </tr>\n",
       "    <tr>\n",
       "      <th>...</th>\n",
       "      <td>...</td>\n",
       "      <td>...</td>\n",
       "      <td>...</td>\n",
       "      <td>...</td>\n",
       "      <td>...</td>\n",
       "      <td>...</td>\n",
       "    </tr>\n",
       "    <tr>\n",
       "      <th>272827</th>\n",
       "      <td>18.75550</td>\n",
       "      <td>2016</td>\n",
       "      <td>Aug Average</td>\n",
       "      <td>Zimbabwe</td>\n",
       "      <td>ZWE</td>\n",
       "      <td>Aug</td>\n",
       "    </tr>\n",
       "    <tr>\n",
       "      <th>272828</th>\n",
       "      <td>22.99190</td>\n",
       "      <td>2016</td>\n",
       "      <td>Sep Average</td>\n",
       "      <td>Zimbabwe</td>\n",
       "      <td>ZWE</td>\n",
       "      <td>Sep</td>\n",
       "    </tr>\n",
       "    <tr>\n",
       "      <th>272829</th>\n",
       "      <td>25.86640</td>\n",
       "      <td>2016</td>\n",
       "      <td>Oct Average</td>\n",
       "      <td>Zimbabwe</td>\n",
       "      <td>ZWE</td>\n",
       "      <td>Oct</td>\n",
       "    </tr>\n",
       "    <tr>\n",
       "      <th>272830</th>\n",
       "      <td>25.85150</td>\n",
       "      <td>2016</td>\n",
       "      <td>Nov Average</td>\n",
       "      <td>Zimbabwe</td>\n",
       "      <td>ZWE</td>\n",
       "      <td>Nov</td>\n",
       "    </tr>\n",
       "    <tr>\n",
       "      <th>272831</th>\n",
       "      <td>25.06930</td>\n",
       "      <td>2016</td>\n",
       "      <td>Dec Average</td>\n",
       "      <td>Zimbabwe</td>\n",
       "      <td>ZWE</td>\n",
       "      <td>Dec</td>\n",
       "    </tr>\n",
       "  </tbody>\n",
       "</table>\n",
       "<p>272832 rows × 6 columns</p>\n",
       "</div>"
      ],
      "text/plain": [
       "         Temp(c)  Year    Statistics       Country  ISO3 Month\n",
       "0       -0.03780  1901   Jan Average   Afghanistan   AFG   Jan\n",
       "1        2.42348  1901   Feb Average   Afghanistan   AFG   Feb\n",
       "2        9.36230  1901   Mar Average   Afghanistan   AFG   Mar\n",
       "3       13.55640  1901   Apr Average   Afghanistan   AFG   Apr\n",
       "4       18.15090  1901   May Average   Afghanistan   AFG   May\n",
       "...          ...   ...           ...           ...   ...   ...\n",
       "272827  18.75550  2016   Aug Average      Zimbabwe   ZWE   Aug\n",
       "272828  22.99190  2016   Sep Average      Zimbabwe   ZWE   Sep\n",
       "272829  25.86640  2016   Oct Average      Zimbabwe   ZWE   Oct\n",
       "272830  25.85150  2016   Nov Average      Zimbabwe   ZWE   Nov\n",
       "272831  25.06930  2016   Dec Average      Zimbabwe   ZWE   Dec\n",
       "\n",
       "[272832 rows x 6 columns]"
      ]
     },
     "execution_count": 55,
     "metadata": {},
     "output_type": "execute_result"
    }
   ],
   "source": [
    "Data"
   ]
  },
  {
   "cell_type": "code",
   "execution_count": 56,
   "id": "administrative-federation",
   "metadata": {},
   "outputs": [
    {
     "data": {
      "text/plain": [
       "array([1901, 1902, 1903, 1904, 1905, 1906, 1907, 1908, 1909, 1910, 1911,\n",
       "       1912, 1913, 1914, 1915, 1916, 1917, 1918, 1919, 1920, 1921, 1922,\n",
       "       1923, 1924, 1925, 1926, 1927, 1928, 1929, 1930, 1931, 1932, 1933,\n",
       "       1934, 1935, 1936, 1937, 1938, 1939, 1940, 1941, 1942, 1943, 1944,\n",
       "       1945, 1946, 1947, 1948, 1949, 1950, 1951, 1952, 1953, 1954, 1955,\n",
       "       1956, 1957, 1958, 1959, 1960, 1961, 1962, 1963, 1964, 1965, 1966,\n",
       "       1967, 1968, 1969, 1970, 1971, 1972, 1973, 1974, 1975, 1976, 1977,\n",
       "       1978, 1979, 1980, 1981, 1982, 1983, 1984, 1985, 1986, 1987, 1988,\n",
       "       1989, 1990, 1991, 1992, 1993, 1994, 1995, 1996, 1997, 1998, 1999,\n",
       "       2000, 2001, 2002, 2003, 2004, 2005, 2006, 2007, 2008, 2009, 2010,\n",
       "       2011, 2012, 2013, 2014, 2015, 2016], dtype=int64)"
      ]
     },
     "execution_count": 56,
     "metadata": {},
     "output_type": "execute_result"
    }
   ],
   "source": [
    "Data.Year.unique()"
   ]
  },
  {
   "cell_type": "markdown",
   "id": "respected-slave",
   "metadata": {},
   "source": [
    "### Remove Whitespace from Country column"
   ]
  },
  {
   "cell_type": "code",
   "execution_count": 57,
   "id": "demanding-sacrifice",
   "metadata": {},
   "outputs": [
    {
     "name": "stdout",
     "output_type": "stream",
     "text": [
      "         Temp(c)  Year   Statistics      Country ISO3 Month\n",
      "0       -0.03780  1901  Jan Average  Afghanistan  AFG   Jan\n",
      "1        2.42348  1901  Feb Average  Afghanistan  AFG   Feb\n",
      "2        9.36230  1901  Mar Average  Afghanistan  AFG   Mar\n",
      "3       13.55640  1901  Apr Average  Afghanistan  AFG   Apr\n",
      "4       18.15090  1901  May Average  Afghanistan  AFG   May\n",
      "...          ...   ...          ...          ...  ...   ...\n",
      "272827  18.75550  2016  Aug Average     Zimbabwe  ZWE   Aug\n",
      "272828  22.99190  2016  Sep Average     Zimbabwe  ZWE   Sep\n",
      "272829  25.86640  2016  Oct Average     Zimbabwe  ZWE   Oct\n",
      "272830  25.85150  2016  Nov Average     Zimbabwe  ZWE   Nov\n",
      "272831  25.06930  2016  Dec Average     Zimbabwe  ZWE   Dec\n",
      "\n",
      "[272832 rows x 6 columns]\n"
     ]
    }
   ],
   "source": [
    "def whitespace_remover(Data):\n",
    "    for i in Data.columns:\n",
    "        if Data[i].dtype == 'object':\n",
    "            Data[i] = Data[i].map(str.strip)\n",
    "        else:\n",
    "            pass\n",
    "whitespace_remover(Data)\n",
    "  \n",
    "# printing dataframe\n",
    "print(Data)"
   ]
  },
  {
   "cell_type": "code",
   "execution_count": 58,
   "id": "tracked-martin",
   "metadata": {},
   "outputs": [
    {
     "data": {
      "text/plain": [
       "array(['Afghanistan', 'Albania', 'Algeria', 'Andorra', 'Angola',\n",
       "       'Antigua and Barbuda', 'Argentina', 'Armenia', 'Australia',\n",
       "       'Austria', 'Azerbaijan', 'The Bahamas', 'Bahrain', 'Bangladesh',\n",
       "       'Barbados', 'Belarus', 'Belgium', 'Belize', 'Benin', 'Bhutan',\n",
       "       'Bolivia', 'Bosnia and Herzegovina', 'Botswana', 'Brazil',\n",
       "       'Brunei', 'Bulgaria', 'Burkina Faso', 'Burundi', 'Cambodia',\n",
       "       'Cameroon', 'Canada', 'Cape Verde', 'Central African Republic',\n",
       "       'Chad', 'Chile', 'China', 'Colombia', 'Comoros',\n",
       "       'Congo (Democratic Republic of the)', 'Congo (Republic of the)',\n",
       "       'Costa Rica', \"Cote d'Ivoire\", 'Croatia', 'Cuba', 'Cyprus',\n",
       "       'Czech Republic', 'Denmark', 'Djibouti', 'Dominica',\n",
       "       'Dominican Republic', 'Ecuador', 'Egypt', 'El Salvador',\n",
       "       'Equatorial Guinea', 'Eritrea', 'Estonia', 'Ethiopia',\n",
       "       'Faroe Islands', 'Federated States of Micronesia', 'Fiji',\n",
       "       'Finland', 'France', 'Gabon', 'Gambia', 'Georgia', 'Germany',\n",
       "       'Ghana', 'Greece', 'Greenland', 'Grenada', 'Guatemala', 'Guinea',\n",
       "       'Guinea-Bissau', 'Guyana', 'Haiti', 'Honduras', 'Hungary',\n",
       "       'Iceland', 'India', 'Indonesia', 'Iran', 'Iraq', 'Ireland',\n",
       "       'Israel', 'Italy', 'Jamaica', 'Japan', 'Jordan', 'Kazakhstan',\n",
       "       'Kenya', 'Kiribati', \"Democratic People's Republic of Korea\",\n",
       "       'Republic of Korea', 'Kuwait', 'Kyrgyzstan', 'Laos', 'Latvia',\n",
       "       'Lebanon', 'Lesotho', 'Liberia', 'Libya', 'Liechtenstein',\n",
       "       'Lithuania', 'Luxembourg', 'Macedonia', 'Madagascar', 'Malawi',\n",
       "       'Malaysia', 'Maldives', 'Mali', 'Malta', 'Marshall Islands',\n",
       "       'Mauritania', 'Mauritius', 'Mexico', 'Moldova', 'Monaco',\n",
       "       'Mongolia', 'Morocco', 'Mozambique', 'Myanmar (Burma)', 'Namibia',\n",
       "       'Nepal', 'Netherlands', 'New Caledonia', 'New Zealand',\n",
       "       'Nicaragua', 'Niger', 'Nigeria', 'Northern Mariana Islands',\n",
       "       'Norway', 'Oman', 'Pakistan', 'Palau', 'Panama',\n",
       "       'Papua New Guinea', 'Paraguay', 'Peru', 'Philippines', 'Poland',\n",
       "       'Portugal', 'Puerto Rico', 'Qatar', 'Republic of Montenegro',\n",
       "       'Republic of Serbia', 'Romania', 'Russia', 'Rwanda', 'Samoa',\n",
       "       'Sao Tome and Principe', 'Saudi Arabia', 'Senegal', 'Seychelles',\n",
       "       'Sierra Leone', 'Singapore', 'Slovakia', 'Slovenia',\n",
       "       'Solomon Islands', 'Somalia', 'South Africa', 'South Sudan',\n",
       "       'Spain', 'Sri Lanka', 'St. Kitts and Nevis', 'St. Lucia',\n",
       "       'St. Vincent and the Grenadines', 'Sudan', 'Suriname', 'Swaziland',\n",
       "       'Sweden', 'Switzerland', 'Syria', 'Tajikistan',\n",
       "       'United Republic of Tanzania', 'Thailand', 'Timor Leste', 'Togo',\n",
       "       'Tonga', 'Trinidad and Tobago', 'Tunisia', 'Turkey',\n",
       "       'Turkmenistan', 'Tuvalu', 'Uganda', 'Ukraine',\n",
       "       'United Arab Emirates', 'United Kingdom', 'United States',\n",
       "       'Uruguay', 'Uzbekistan', 'Vanuatu', 'Venezuela', 'Vietnam',\n",
       "       'Yemen', 'Zambia', 'Zimbabwe'], dtype=object)"
      ]
     },
     "execution_count": 58,
     "metadata": {},
     "output_type": "execute_result"
    }
   ],
   "source": [
    "Data.Country.unique()"
   ]
  },
  {
   "cell_type": "markdown",
   "id": "beneficial-being",
   "metadata": {},
   "source": [
    "### Double Filter"
   ]
  },
  {
   "cell_type": "code",
   "execution_count": 59,
   "id": "postal-specific",
   "metadata": {},
   "outputs": [],
   "source": [
    "UK=Data[(Data['Country']=='United Kingdom') & (Data['Year']==2001)]"
   ]
  },
  {
   "cell_type": "code",
   "execution_count": 60,
   "id": "empty-identity",
   "metadata": {},
   "outputs": [
    {
     "data": {
      "text/html": [
       "<div>\n",
       "<style scoped>\n",
       "    .dataframe tbody tr th:only-of-type {\n",
       "        vertical-align: middle;\n",
       "    }\n",
       "\n",
       "    .dataframe tbody tr th {\n",
       "        vertical-align: top;\n",
       "    }\n",
       "\n",
       "    .dataframe thead th {\n",
       "        text-align: right;\n",
       "    }\n",
       "</style>\n",
       "<table border=\"1\" class=\"dataframe\">\n",
       "  <thead>\n",
       "    <tr style=\"text-align: right;\">\n",
       "      <th></th>\n",
       "      <th>Temp(c)</th>\n",
       "      <th>Year</th>\n",
       "      <th>Statistics</th>\n",
       "      <th>Country</th>\n",
       "      <th>ISO3</th>\n",
       "      <th>Month</th>\n",
       "    </tr>\n",
       "  </thead>\n",
       "  <tbody>\n",
       "    <tr>\n",
       "      <th>260112</th>\n",
       "      <td>2.93027</td>\n",
       "      <td>2001</td>\n",
       "      <td>Jan Average</td>\n",
       "      <td>United Kingdom</td>\n",
       "      <td>GBR</td>\n",
       "      <td>Jan</td>\n",
       "    </tr>\n",
       "    <tr>\n",
       "      <th>260113</th>\n",
       "      <td>3.35850</td>\n",
       "      <td>2001</td>\n",
       "      <td>Feb Average</td>\n",
       "      <td>United Kingdom</td>\n",
       "      <td>GBR</td>\n",
       "      <td>Feb</td>\n",
       "    </tr>\n",
       "    <tr>\n",
       "      <th>260114</th>\n",
       "      <td>4.18287</td>\n",
       "      <td>2001</td>\n",
       "      <td>Mar Average</td>\n",
       "      <td>United Kingdom</td>\n",
       "      <td>GBR</td>\n",
       "      <td>Mar</td>\n",
       "    </tr>\n",
       "    <tr>\n",
       "      <th>260115</th>\n",
       "      <td>6.61832</td>\n",
       "      <td>2001</td>\n",
       "      <td>Apr Average</td>\n",
       "      <td>United Kingdom</td>\n",
       "      <td>GBR</td>\n",
       "      <td>Apr</td>\n",
       "    </tr>\n",
       "    <tr>\n",
       "      <th>260116</th>\n",
       "      <td>11.32400</td>\n",
       "      <td>2001</td>\n",
       "      <td>May Average</td>\n",
       "      <td>United Kingdom</td>\n",
       "      <td>GBR</td>\n",
       "      <td>May</td>\n",
       "    </tr>\n",
       "    <tr>\n",
       "      <th>260117</th>\n",
       "      <td>12.59110</td>\n",
       "      <td>2001</td>\n",
       "      <td>Jun Average</td>\n",
       "      <td>United Kingdom</td>\n",
       "      <td>GBR</td>\n",
       "      <td>Jun</td>\n",
       "    </tr>\n",
       "    <tr>\n",
       "      <th>260118</th>\n",
       "      <td>15.10250</td>\n",
       "      <td>2001</td>\n",
       "      <td>Jul Average</td>\n",
       "      <td>United Kingdom</td>\n",
       "      <td>GBR</td>\n",
       "      <td>Jul</td>\n",
       "    </tr>\n",
       "    <tr>\n",
       "      <th>260119</th>\n",
       "      <td>15.06720</td>\n",
       "      <td>2001</td>\n",
       "      <td>Aug Average</td>\n",
       "      <td>United Kingdom</td>\n",
       "      <td>GBR</td>\n",
       "      <td>Aug</td>\n",
       "    </tr>\n",
       "    <tr>\n",
       "      <th>260120</th>\n",
       "      <td>12.27230</td>\n",
       "      <td>2001</td>\n",
       "      <td>Sep Average</td>\n",
       "      <td>United Kingdom</td>\n",
       "      <td>GBR</td>\n",
       "      <td>Sep</td>\n",
       "    </tr>\n",
       "    <tr>\n",
       "      <th>260121</th>\n",
       "      <td>12.05350</td>\n",
       "      <td>2001</td>\n",
       "      <td>Oct Average</td>\n",
       "      <td>United Kingdom</td>\n",
       "      <td>GBR</td>\n",
       "      <td>Oct</td>\n",
       "    </tr>\n",
       "    <tr>\n",
       "      <th>260122</th>\n",
       "      <td>6.84253</td>\n",
       "      <td>2001</td>\n",
       "      <td>Nov Average</td>\n",
       "      <td>United Kingdom</td>\n",
       "      <td>GBR</td>\n",
       "      <td>Nov</td>\n",
       "    </tr>\n",
       "    <tr>\n",
       "      <th>260123</th>\n",
       "      <td>3.38289</td>\n",
       "      <td>2001</td>\n",
       "      <td>Dec Average</td>\n",
       "      <td>United Kingdom</td>\n",
       "      <td>GBR</td>\n",
       "      <td>Dec</td>\n",
       "    </tr>\n",
       "  </tbody>\n",
       "</table>\n",
       "</div>"
      ],
      "text/plain": [
       "         Temp(c)  Year   Statistics         Country ISO3 Month\n",
       "260112   2.93027  2001  Jan Average  United Kingdom  GBR   Jan\n",
       "260113   3.35850  2001  Feb Average  United Kingdom  GBR   Feb\n",
       "260114   4.18287  2001  Mar Average  United Kingdom  GBR   Mar\n",
       "260115   6.61832  2001  Apr Average  United Kingdom  GBR   Apr\n",
       "260116  11.32400  2001  May Average  United Kingdom  GBR   May\n",
       "260117  12.59110  2001  Jun Average  United Kingdom  GBR   Jun\n",
       "260118  15.10250  2001  Jul Average  United Kingdom  GBR   Jul\n",
       "260119  15.06720  2001  Aug Average  United Kingdom  GBR   Aug\n",
       "260120  12.27230  2001  Sep Average  United Kingdom  GBR   Sep\n",
       "260121  12.05350  2001  Oct Average  United Kingdom  GBR   Oct\n",
       "260122   6.84253  2001  Nov Average  United Kingdom  GBR   Nov\n",
       "260123   3.38289  2001  Dec Average  United Kingdom  GBR   Dec"
      ]
     },
     "execution_count": 60,
     "metadata": {},
     "output_type": "execute_result"
    }
   ],
   "source": [
    "UK"
   ]
  },
  {
   "cell_type": "markdown",
   "id": "artistic-night",
   "metadata": {},
   "source": [
    "### Plot graph"
   ]
  },
  {
   "cell_type": "code",
   "execution_count": 61,
   "id": "surgical-disorder",
   "metadata": {},
   "outputs": [
    {
     "data": {
      "image/png": "[encoded data removed]",
      "text/plain": [
       "<Figure size 432x288 with 1 Axes>"
      ]
     },
     "metadata": {
      "needs_background": "light"
     },
     "output_type": "display_data"
    }
   ],
   "source": [
    "plt.plot(UK['Month'],UK['Temp(c)'])\n",
    "plt.grid()\n",
    "\n",
    "plt.show()"
   ]
  },
  {
   "cell_type": "markdown",
   "id": "toxic-serve",
   "metadata": {},
   "source": [
    "### Yearwise and countriwise mean temp"
   ]
  },
  {
   "cell_type": "code",
   "execution_count": 62,
   "id": "legendary-stupid",
   "metadata": {},
   "outputs": [
    {
     "data": {
      "text/plain": [
       "0         -0.03780\n",
       "1          2.42348\n",
       "2          9.36230\n",
       "3         13.55640\n",
       "4         18.15090\n",
       "            ...   \n",
       "272827    18.75550\n",
       "272828    22.99190\n",
       "272829    25.86640\n",
       "272830    25.85150\n",
       "272831    25.06930\n",
       "Name: Temp(c), Length: 272832, dtype: float64"
      ]
     },
     "execution_count": 62,
     "metadata": {},
     "output_type": "execute_result"
    }
   ],
   "source": [
    "Data.get('Temp(c)')"
   ]
  },
  {
   "cell_type": "markdown",
   "id": "strange-delay",
   "metadata": {},
   "source": [
    "### Global Tempurature Rise"
   ]
  },
  {
   "cell_type": "code",
   "execution_count": 63,
   "id": "orange-romantic",
   "metadata": {},
   "outputs": [
    {
     "data": {
      "image/png": "[encoded data removed]",
      "text/plain": [
       "<Figure size 432x288 with 1 Axes>"
      ]
     },
     "metadata": {
      "needs_background": "light"
     },
     "output_type": "display_data"
    }
   ],
   "source": [
    "season=Data.groupby(['Year','Country'])['Temp(c)'].mean().reset_index().rename(columns={'Temp(c)':'Mean_temp'})\n",
    "p=season.set_index('Year')\n",
    "ax=plt.axes()\n",
    "ax.set(facecolor=\"white\")\n",
    "sns.lineplot(data=p,palette=\"magma\",ci=False)\n",
    "plt.title('Global mean temp from 1900 to 2020',fontsize=12,fontweight='bold')\n",
    "plt.show()"
   ]
  },
  {
   "cell_type": "markdown",
   "id": "unnecessary-nightmare",
   "metadata": {},
   "source": [
    "### Top 10 hot countries"
   ]
  },
  {
   "cell_type": "code",
   "execution_count": 64,
   "id": "private-return",
   "metadata": {},
   "outputs": [
    {
     "data": {
      "text/plain": [
       "Text(0.5, 1.0, 'Top 10 max temp country temp')"
      ]
     },
     "execution_count": 64,
     "metadata": {},
     "output_type": "execute_result"
    },
    {
     "data": {
      "image/png": "[encoded data removed]",
      "text/plain": [
       "<Figure size 432x288 with 1 Axes>"
      ]
     },
     "metadata": {
      "needs_background": "light"
     },
     "output_type": "display_data"
    }
   ],
   "source": [
    "max_temp = season.groupby(['Country'])['Mean_temp'].max().reset_index()\n",
    "temp=max_temp.sort_values(by='Mean_temp',ascending=False).head(10).reset_index().drop('index',axis=1)\n",
    "ax=plt.axes()\n",
    "ax.set(facecolor=\"grey\")\n",
    "sns.barplot(x=temp['Country'],y=temp['Mean_temp'],palette='rocket',saturation=1)\n",
    "plt.xticks(rotation=90,fontsize=10)\n",
    "plt.yticks(fontsize=10)\n",
    "plt.xlabel('\\n Country',fontsize=15)\n",
    "plt.ylabel('Mean temp',fontsize=15)\n",
    "plt.title('Top 10 max temp country temp',fontsize=15,fontweight='bold')"
   ]
  },
  {
   "cell_type": "code",
   "execution_count": 65,
   "id": "lasting-establishment",
   "metadata": {},
   "outputs": [
    {
     "data": {
      "text/html": [
       "<div>\n",
       "<style scoped>\n",
       "    .dataframe tbody tr th:only-of-type {\n",
       "        vertical-align: middle;\n",
       "    }\n",
       "\n",
       "    .dataframe tbody tr th {\n",
       "        vertical-align: top;\n",
       "    }\n",
       "\n",
       "    .dataframe thead th {\n",
       "        text-align: right;\n",
       "    }\n",
       "</style>\n",
       "<table border=\"1\" class=\"dataframe\">\n",
       "  <thead>\n",
       "    <tr style=\"text-align: right;\">\n",
       "      <th></th>\n",
       "      <th>Country</th>\n",
       "      <th>Mean_temp</th>\n",
       "    </tr>\n",
       "  </thead>\n",
       "  <tbody>\n",
       "    <tr>\n",
       "      <th>0</th>\n",
       "      <td>Afghanistan</td>\n",
       "      <td>14.513565</td>\n",
       "    </tr>\n",
       "    <tr>\n",
       "      <th>1</th>\n",
       "      <td>Albania</td>\n",
       "      <td>12.748113</td>\n",
       "    </tr>\n",
       "    <tr>\n",
       "      <th>2</th>\n",
       "      <td>Algeria</td>\n",
       "      <td>24.085758</td>\n",
       "    </tr>\n",
       "    <tr>\n",
       "      <th>3</th>\n",
       "      <td>Andorra</td>\n",
       "      <td>12.831938</td>\n",
       "    </tr>\n",
       "    <tr>\n",
       "      <th>4</th>\n",
       "      <td>Angola</td>\n",
       "      <td>22.744050</td>\n",
       "    </tr>\n",
       "    <tr>\n",
       "      <th>...</th>\n",
       "      <td>...</td>\n",
       "      <td>...</td>\n",
       "    </tr>\n",
       "    <tr>\n",
       "      <th>191</th>\n",
       "      <td>Venezuela</td>\n",
       "      <td>26.478200</td>\n",
       "    </tr>\n",
       "    <tr>\n",
       "      <th>192</th>\n",
       "      <td>Vietnam</td>\n",
       "      <td>25.325083</td>\n",
       "    </tr>\n",
       "    <tr>\n",
       "      <th>193</th>\n",
       "      <td>Yemen</td>\n",
       "      <td>24.537625</td>\n",
       "    </tr>\n",
       "    <tr>\n",
       "      <th>194</th>\n",
       "      <td>Zambia</td>\n",
       "      <td>23.368183</td>\n",
       "    </tr>\n",
       "    <tr>\n",
       "      <th>195</th>\n",
       "      <td>Zimbabwe</td>\n",
       "      <td>22.940683</td>\n",
       "    </tr>\n",
       "  </tbody>\n",
       "</table>\n",
       "<p>196 rows × 2 columns</p>\n",
       "</div>"
      ],
      "text/plain": [
       "         Country  Mean_temp\n",
       "0    Afghanistan  14.513565\n",
       "1        Albania  12.748113\n",
       "2        Algeria  24.085758\n",
       "3        Andorra  12.831938\n",
       "4         Angola  22.744050\n",
       "..           ...        ...\n",
       "191    Venezuela  26.478200\n",
       "192      Vietnam  25.325083\n",
       "193        Yemen  24.537625\n",
       "194       Zambia  23.368183\n",
       "195     Zimbabwe  22.940683\n",
       "\n",
       "[196 rows x 2 columns]"
      ]
     },
     "execution_count": 65,
     "metadata": {},
     "output_type": "execute_result"
    }
   ],
   "source": [
    "max_temp"
   ]
  },
  {
   "cell_type": "code",
   "execution_count": 66,
   "id": "regular-termination",
   "metadata": {},
   "outputs": [
    {
     "data": {
      "text/html": [
       "<div>\n",
       "<style scoped>\n",
       "    .dataframe tbody tr th:only-of-type {\n",
       "        vertical-align: middle;\n",
       "    }\n",
       "\n",
       "    .dataframe tbody tr th {\n",
       "        vertical-align: top;\n",
       "    }\n",
       "\n",
       "    .dataframe thead th {\n",
       "        text-align: right;\n",
       "    }\n",
       "</style>\n",
       "<table border=\"1\" class=\"dataframe\">\n",
       "  <thead>\n",
       "    <tr style=\"text-align: right;\">\n",
       "      <th></th>\n",
       "      <th>Country</th>\n",
       "      <th>Mean_temp</th>\n",
       "    </tr>\n",
       "  </thead>\n",
       "  <tbody>\n",
       "    <tr>\n",
       "      <th>25</th>\n",
       "      <td>Burkina Faso</td>\n",
       "      <td>29.695133</td>\n",
       "    </tr>\n",
       "    <tr>\n",
       "      <th>107</th>\n",
       "      <td>Mali</td>\n",
       "      <td>29.541075</td>\n",
       "    </tr>\n",
       "    <tr>\n",
       "      <th>150</th>\n",
       "      <td>Senegal</td>\n",
       "      <td>29.201167</td>\n",
       "    </tr>\n",
       "    <tr>\n",
       "      <th>110</th>\n",
       "      <td>Mauritania</td>\n",
       "      <td>29.200675</td>\n",
       "    </tr>\n",
       "    <tr>\n",
       "      <th>47</th>\n",
       "      <td>Djibouti</td>\n",
       "      <td>29.057375</td>\n",
       "    </tr>\n",
       "    <tr>\n",
       "      <th>...</th>\n",
       "      <td>...</td>\n",
       "      <td>...</td>\n",
       "    </tr>\n",
       "    <tr>\n",
       "      <th>128</th>\n",
       "      <td>Norway</td>\n",
       "      <td>2.850132</td>\n",
       "    </tr>\n",
       "    <tr>\n",
       "      <th>115</th>\n",
       "      <td>Mongolia</td>\n",
       "      <td>2.183323</td>\n",
       "    </tr>\n",
       "    <tr>\n",
       "      <th>145</th>\n",
       "      <td>Russia</td>\n",
       "      <td>-4.119612</td>\n",
       "    </tr>\n",
       "    <tr>\n",
       "      <th>29</th>\n",
       "      <td>Canada</td>\n",
       "      <td>-4.186647</td>\n",
       "    </tr>\n",
       "    <tr>\n",
       "      <th>68</th>\n",
       "      <td>Greenland</td>\n",
       "      <td>-15.333200</td>\n",
       "    </tr>\n",
       "  </tbody>\n",
       "</table>\n",
       "<p>196 rows × 2 columns</p>\n",
       "</div>"
      ],
      "text/plain": [
       "          Country  Mean_temp\n",
       "25   Burkina Faso  29.695133\n",
       "107          Mali  29.541075\n",
       "150       Senegal  29.201167\n",
       "110    Mauritania  29.200675\n",
       "47       Djibouti  29.057375\n",
       "..            ...        ...\n",
       "128        Norway   2.850132\n",
       "115      Mongolia   2.183323\n",
       "145        Russia  -4.119612\n",
       "29         Canada  -4.186647\n",
       "68      Greenland -15.333200\n",
       "\n",
       "[196 rows x 2 columns]"
      ]
     },
     "execution_count": 66,
     "metadata": {},
     "output_type": "execute_result"
    }
   ],
   "source": [
    "max_temp.sort_values(by='Mean_temp',ascending=False)"
   ]
  },
  {
   "cell_type": "code",
   "execution_count": 67,
   "id": "occupational-domestic",
   "metadata": {},
   "outputs": [
    {
     "data": {
      "text/plain": [
       "25.239425"
      ]
     },
     "execution_count": 67,
     "metadata": {},
     "output_type": "execute_result"
    }
   ],
   "source": [
    "season[season[\"Country\"] == \"India\"]['Mean_temp'].max()"
   ]
  },
  {
   "cell_type": "markdown",
   "id": "listed-relay",
   "metadata": {},
   "source": [
    "### Segmentation in Decades"
   ]
  },
  {
   "cell_type": "code",
   "execution_count": 69,
   "id": "southwest-omaha",
   "metadata": {},
   "outputs": [],
   "source": [
    "Decade_label=['1900-10','1911-20','1921-30','1931-40','1941-50','1951-60','1961-70','1971-80','1981-90','1991-2000','2001-2010','2011-21']\n",
    "bins=[1900,1911,1921,1931,1941,1951,1961,1971,1981,1991,2001,2011,2021]\n",
    "Data[\"Decade\"]=pd.cut(Data['Year'],bins,labels=Decade_label)"
   ]
  },
  {
   "cell_type": "code",
   "execution_count": 70,
   "id": "intellectual-warren",
   "metadata": {},
   "outputs": [
    {
     "data": {
      "text/html": [
       "<div>\n",
       "<style scoped>\n",
       "    .dataframe tbody tr th:only-of-type {\n",
       "        vertical-align: middle;\n",
       "    }\n",
       "\n",
       "    .dataframe tbody tr th {\n",
       "        vertical-align: top;\n",
       "    }\n",
       "\n",
       "    .dataframe thead th {\n",
       "        text-align: right;\n",
       "    }\n",
       "</style>\n",
       "<table border=\"1\" class=\"dataframe\">\n",
       "  <thead>\n",
       "    <tr style=\"text-align: right;\">\n",
       "      <th></th>\n",
       "      <th>Temp(c)</th>\n",
       "      <th>Year</th>\n",
       "      <th>Statistics</th>\n",
       "      <th>Country</th>\n",
       "      <th>ISO3</th>\n",
       "      <th>Month</th>\n",
       "      <th>Decade</th>\n",
       "    </tr>\n",
       "  </thead>\n",
       "  <tbody>\n",
       "    <tr>\n",
       "      <th>0</th>\n",
       "      <td>-0.03780</td>\n",
       "      <td>1901</td>\n",
       "      <td>Jan Average</td>\n",
       "      <td>Afghanistan</td>\n",
       "      <td>AFG</td>\n",
       "      <td>Jan</td>\n",
       "      <td>1900-10</td>\n",
       "    </tr>\n",
       "    <tr>\n",
       "      <th>1</th>\n",
       "      <td>2.42348</td>\n",
       "      <td>1901</td>\n",
       "      <td>Feb Average</td>\n",
       "      <td>Afghanistan</td>\n",
       "      <td>AFG</td>\n",
       "      <td>Feb</td>\n",
       "      <td>1900-10</td>\n",
       "    </tr>\n",
       "    <tr>\n",
       "      <th>2</th>\n",
       "      <td>9.36230</td>\n",
       "      <td>1901</td>\n",
       "      <td>Mar Average</td>\n",
       "      <td>Afghanistan</td>\n",
       "      <td>AFG</td>\n",
       "      <td>Mar</td>\n",
       "      <td>1900-10</td>\n",
       "    </tr>\n",
       "    <tr>\n",
       "      <th>3</th>\n",
       "      <td>13.55640</td>\n",
       "      <td>1901</td>\n",
       "      <td>Apr Average</td>\n",
       "      <td>Afghanistan</td>\n",
       "      <td>AFG</td>\n",
       "      <td>Apr</td>\n",
       "      <td>1900-10</td>\n",
       "    </tr>\n",
       "    <tr>\n",
       "      <th>4</th>\n",
       "      <td>18.15090</td>\n",
       "      <td>1901</td>\n",
       "      <td>May Average</td>\n",
       "      <td>Afghanistan</td>\n",
       "      <td>AFG</td>\n",
       "      <td>May</td>\n",
       "      <td>1900-10</td>\n",
       "    </tr>\n",
       "    <tr>\n",
       "      <th>...</th>\n",
       "      <td>...</td>\n",
       "      <td>...</td>\n",
       "      <td>...</td>\n",
       "      <td>...</td>\n",
       "      <td>...</td>\n",
       "      <td>...</td>\n",
       "      <td>...</td>\n",
       "    </tr>\n",
       "    <tr>\n",
       "      <th>272827</th>\n",
       "      <td>18.75550</td>\n",
       "      <td>2016</td>\n",
       "      <td>Aug Average</td>\n",
       "      <td>Zimbabwe</td>\n",
       "      <td>ZWE</td>\n",
       "      <td>Aug</td>\n",
       "      <td>2011-21</td>\n",
       "    </tr>\n",
       "    <tr>\n",
       "      <th>272828</th>\n",
       "      <td>22.99190</td>\n",
       "      <td>2016</td>\n",
       "      <td>Sep Average</td>\n",
       "      <td>Zimbabwe</td>\n",
       "      <td>ZWE</td>\n",
       "      <td>Sep</td>\n",
       "      <td>2011-21</td>\n",
       "    </tr>\n",
       "    <tr>\n",
       "      <th>272829</th>\n",
       "      <td>25.86640</td>\n",
       "      <td>2016</td>\n",
       "      <td>Oct Average</td>\n",
       "      <td>Zimbabwe</td>\n",
       "      <td>ZWE</td>\n",
       "      <td>Oct</td>\n",
       "      <td>2011-21</td>\n",
       "    </tr>\n",
       "    <tr>\n",
       "      <th>272830</th>\n",
       "      <td>25.85150</td>\n",
       "      <td>2016</td>\n",
       "      <td>Nov Average</td>\n",
       "      <td>Zimbabwe</td>\n",
       "      <td>ZWE</td>\n",
       "      <td>Nov</td>\n",
       "      <td>2011-21</td>\n",
       "    </tr>\n",
       "    <tr>\n",
       "      <th>272831</th>\n",
       "      <td>25.06930</td>\n",
       "      <td>2016</td>\n",
       "      <td>Dec Average</td>\n",
       "      <td>Zimbabwe</td>\n",
       "      <td>ZWE</td>\n",
       "      <td>Dec</td>\n",
       "      <td>2011-21</td>\n",
       "    </tr>\n",
       "  </tbody>\n",
       "</table>\n",
       "<p>272832 rows × 7 columns</p>\n",
       "</div>"
      ],
      "text/plain": [
       "         Temp(c)  Year   Statistics      Country ISO3 Month   Decade\n",
       "0       -0.03780  1901  Jan Average  Afghanistan  AFG   Jan  1900-10\n",
       "1        2.42348  1901  Feb Average  Afghanistan  AFG   Feb  1900-10\n",
       "2        9.36230  1901  Mar Average  Afghanistan  AFG   Mar  1900-10\n",
       "3       13.55640  1901  Apr Average  Afghanistan  AFG   Apr  1900-10\n",
       "4       18.15090  1901  May Average  Afghanistan  AFG   May  1900-10\n",
       "...          ...   ...          ...          ...  ...   ...      ...\n",
       "272827  18.75550  2016  Aug Average     Zimbabwe  ZWE   Aug  2011-21\n",
       "272828  22.99190  2016  Sep Average     Zimbabwe  ZWE   Sep  2011-21\n",
       "272829  25.86640  2016  Oct Average     Zimbabwe  ZWE   Oct  2011-21\n",
       "272830  25.85150  2016  Nov Average     Zimbabwe  ZWE   Nov  2011-21\n",
       "272831  25.06930  2016  Dec Average     Zimbabwe  ZWE   Dec  2011-21\n",
       "\n",
       "[272832 rows x 7 columns]"
      ]
     },
     "execution_count": 70,
     "metadata": {},
     "output_type": "execute_result"
    }
   ],
   "source": [
    "Data"
   ]
  },
  {
   "cell_type": "code",
   "execution_count": 71,
   "id": "established-implement",
   "metadata": {},
   "outputs": [
    {
     "data": {
      "text/plain": [
       "<seaborn.axisgrid.FacetGrid at 0x21326aa4408>"
      ]
     },
     "execution_count": 71,
     "metadata": {},
     "output_type": "execute_result"
    },
    {
     "data": {
      "image/png": "[encoded data removed]",
      "text/plain": [
       "<Figure size 587.5x360 with 1 Axes>"
      ]
     },
     "metadata": {
      "needs_background": "light"
     },
     "output_type": "display_data"
    }
   ],
   "source": [
    "sns.relplot(x='Decade',y='Temp(c)',hue='Country',kind='line',data=Data,markers=True, dashes=False)"
   ]
  },
  {
   "cell_type": "code",
   "execution_count": 72,
   "id": "central-greeting",
   "metadata": {},
   "outputs": [],
   "source": [
    "Decadal_mean=Data.groupby(['Country','Decade'])['Temp(c)'].mean().reset_index().rename(columns={'Temp(c)':'Decadal_mean'})\n",
    "#season=Data.groupby(['Year','Country'])['Temp(c)'].mean().reset_index().rename(columns={'Temp(c)':'Mean_temp'})"
   ]
  },
  {
   "cell_type": "code",
   "execution_count": 73,
   "id": "valid-helping",
   "metadata": {},
   "outputs": [
    {
     "data": {
      "text/html": [
       "<div>\n",
       "<style scoped>\n",
       "    .dataframe tbody tr th:only-of-type {\n",
       "        vertical-align: middle;\n",
       "    }\n",
       "\n",
       "    .dataframe tbody tr th {\n",
       "        vertical-align: top;\n",
       "    }\n",
       "\n",
       "    .dataframe thead th {\n",
       "        text-align: right;\n",
       "    }\n",
       "</style>\n",
       "<table border=\"1\" class=\"dataframe\">\n",
       "  <thead>\n",
       "    <tr style=\"text-align: right;\">\n",
       "      <th></th>\n",
       "      <th>Country</th>\n",
       "      <th>Decade</th>\n",
       "      <th>Decadal_mean</th>\n",
       "    </tr>\n",
       "  </thead>\n",
       "  <tbody>\n",
       "    <tr>\n",
       "      <th>0</th>\n",
       "      <td>Afghanistan</td>\n",
       "      <td>1900-10</td>\n",
       "      <td>12.591314</td>\n",
       "    </tr>\n",
       "    <tr>\n",
       "      <th>1</th>\n",
       "      <td>Afghanistan</td>\n",
       "      <td>1911-20</td>\n",
       "      <td>12.712886</td>\n",
       "    </tr>\n",
       "    <tr>\n",
       "      <th>2</th>\n",
       "      <td>Afghanistan</td>\n",
       "      <td>1921-30</td>\n",
       "      <td>12.359544</td>\n",
       "    </tr>\n",
       "    <tr>\n",
       "      <th>3</th>\n",
       "      <td>Afghanistan</td>\n",
       "      <td>1931-40</td>\n",
       "      <td>12.730039</td>\n",
       "    </tr>\n",
       "    <tr>\n",
       "      <th>4</th>\n",
       "      <td>Afghanistan</td>\n",
       "      <td>1941-50</td>\n",
       "      <td>12.750829</td>\n",
       "    </tr>\n",
       "    <tr>\n",
       "      <th>...</th>\n",
       "      <td>...</td>\n",
       "      <td>...</td>\n",
       "      <td>...</td>\n",
       "    </tr>\n",
       "    <tr>\n",
       "      <th>2347</th>\n",
       "      <td>Zimbabwe</td>\n",
       "      <td>1971-80</td>\n",
       "      <td>20.824191</td>\n",
       "    </tr>\n",
       "    <tr>\n",
       "      <th>2348</th>\n",
       "      <td>Zimbabwe</td>\n",
       "      <td>1981-90</td>\n",
       "      <td>21.476646</td>\n",
       "    </tr>\n",
       "    <tr>\n",
       "      <th>2349</th>\n",
       "      <td>Zimbabwe</td>\n",
       "      <td>1991-2000</td>\n",
       "      <td>21.953022</td>\n",
       "    </tr>\n",
       "    <tr>\n",
       "      <th>2350</th>\n",
       "      <td>Zimbabwe</td>\n",
       "      <td>2001-2010</td>\n",
       "      <td>22.204292</td>\n",
       "    </tr>\n",
       "    <tr>\n",
       "      <th>2351</th>\n",
       "      <td>Zimbabwe</td>\n",
       "      <td>2011-21</td>\n",
       "      <td>21.976540</td>\n",
       "    </tr>\n",
       "  </tbody>\n",
       "</table>\n",
       "<p>2352 rows × 3 columns</p>\n",
       "</div>"
      ],
      "text/plain": [
       "          Country     Decade  Decadal_mean\n",
       "0     Afghanistan    1900-10     12.591314\n",
       "1     Afghanistan    1911-20     12.712886\n",
       "2     Afghanistan    1921-30     12.359544\n",
       "3     Afghanistan    1931-40     12.730039\n",
       "4     Afghanistan    1941-50     12.750829\n",
       "...           ...        ...           ...\n",
       "2347     Zimbabwe    1971-80     20.824191\n",
       "2348     Zimbabwe    1981-90     21.476646\n",
       "2349     Zimbabwe  1991-2000     21.953022\n",
       "2350     Zimbabwe  2001-2010     22.204292\n",
       "2351     Zimbabwe    2011-21     21.976540\n",
       "\n",
       "[2352 rows x 3 columns]"
      ]
     },
     "execution_count": 73,
     "metadata": {},
     "output_type": "execute_result"
    }
   ],
   "source": [
    "Decadal_mean"
   ]
  },
  {
   "cell_type": "code",
   "execution_count": 74,
   "id": "virgin-easter",
   "metadata": {},
   "outputs": [
    {
     "data": {
      "text/plain": [
       "([<matplotlib.axis.XTick at 0x2133084a048>], [Text(0, 0, '1900-10')])"
      ]
     },
     "execution_count": 74,
     "metadata": {},
     "output_type": "execute_result"
    },
    {
     "data": {
      "image/png": "[encoded data removed]",
      "text/plain": [
       "<Figure size 360x360 with 1 Axes>"
      ]
     },
     "metadata": {
      "needs_background": "light"
     },
     "output_type": "display_data"
    }
   ],
   "source": [
    "p=Decadal_mean[(Decadal_mean['Country']=='Iceland')]\n",
    "sns.relplot(x='Decade',y='Decadal_mean',data=p,kind='line')\n",
    "plt.xticks('Decade')"
   ]
  },
  {
   "cell_type": "code",
   "execution_count": 75,
   "id": "mobile-influence",
   "metadata": {},
   "outputs": [
    {
     "data": {
      "text/html": [
       "<div>\n",
       "<style scoped>\n",
       "    .dataframe tbody tr th:only-of-type {\n",
       "        vertical-align: middle;\n",
       "    }\n",
       "\n",
       "    .dataframe tbody tr th {\n",
       "        vertical-align: top;\n",
       "    }\n",
       "\n",
       "    .dataframe thead th {\n",
       "        text-align: right;\n",
       "    }\n",
       "</style>\n",
       "<table border=\"1\" class=\"dataframe\">\n",
       "  <thead>\n",
       "    <tr style=\"text-align: right;\">\n",
       "      <th></th>\n",
       "      <th>Country</th>\n",
       "      <th>Decade</th>\n",
       "      <th>Decadal_mean</th>\n",
       "    </tr>\n",
       "  </thead>\n",
       "  <tbody>\n",
       "    <tr>\n",
       "      <th>924</th>\n",
       "      <td>Iceland</td>\n",
       "      <td>1900-10</td>\n",
       "      <td>1.190505</td>\n",
       "    </tr>\n",
       "    <tr>\n",
       "      <th>925</th>\n",
       "      <td>Iceland</td>\n",
       "      <td>1911-20</td>\n",
       "      <td>1.092989</td>\n",
       "    </tr>\n",
       "    <tr>\n",
       "      <th>926</th>\n",
       "      <td>Iceland</td>\n",
       "      <td>1921-30</td>\n",
       "      <td>1.844051</td>\n",
       "    </tr>\n",
       "    <tr>\n",
       "      <th>927</th>\n",
       "      <td>Iceland</td>\n",
       "      <td>1931-40</td>\n",
       "      <td>2.373391</td>\n",
       "    </tr>\n",
       "    <tr>\n",
       "      <th>928</th>\n",
       "      <td>Iceland</td>\n",
       "      <td>1941-50</td>\n",
       "      <td>1.943423</td>\n",
       "    </tr>\n",
       "    <tr>\n",
       "      <th>929</th>\n",
       "      <td>Iceland</td>\n",
       "      <td>1951-60</td>\n",
       "      <td>2.127845</td>\n",
       "    </tr>\n",
       "    <tr>\n",
       "      <th>930</th>\n",
       "      <td>Iceland</td>\n",
       "      <td>1961-70</td>\n",
       "      <td>1.271200</td>\n",
       "    </tr>\n",
       "    <tr>\n",
       "      <th>931</th>\n",
       "      <td>Iceland</td>\n",
       "      <td>1971-80</td>\n",
       "      <td>1.522881</td>\n",
       "    </tr>\n",
       "    <tr>\n",
       "      <th>932</th>\n",
       "      <td>Iceland</td>\n",
       "      <td>1981-90</td>\n",
       "      <td>1.630542</td>\n",
       "    </tr>\n",
       "    <tr>\n",
       "      <th>933</th>\n",
       "      <td>Iceland</td>\n",
       "      <td>1991-2000</td>\n",
       "      <td>1.804315</td>\n",
       "    </tr>\n",
       "    <tr>\n",
       "      <th>934</th>\n",
       "      <td>Iceland</td>\n",
       "      <td>2001-2010</td>\n",
       "      <td>2.623535</td>\n",
       "    </tr>\n",
       "    <tr>\n",
       "      <th>935</th>\n",
       "      <td>Iceland</td>\n",
       "      <td>2011-21</td>\n",
       "      <td>2.639045</td>\n",
       "    </tr>\n",
       "  </tbody>\n",
       "</table>\n",
       "</div>"
      ],
      "text/plain": [
       "     Country     Decade  Decadal_mean\n",
       "924  Iceland    1900-10      1.190505\n",
       "925  Iceland    1911-20      1.092989\n",
       "926  Iceland    1921-30      1.844051\n",
       "927  Iceland    1931-40      2.373391\n",
       "928  Iceland    1941-50      1.943423\n",
       "929  Iceland    1951-60      2.127845\n",
       "930  Iceland    1961-70      1.271200\n",
       "931  Iceland    1971-80      1.522881\n",
       "932  Iceland    1981-90      1.630542\n",
       "933  Iceland  1991-2000      1.804315\n",
       "934  Iceland  2001-2010      2.623535\n",
       "935  Iceland    2011-21      2.639045"
      ]
     },
     "execution_count": 75,
     "metadata": {},
     "output_type": "execute_result"
    }
   ],
   "source": [
    "p\n",
    "#Data[(Data['Country']=='Iceland')]"
   ]
  },
  {
   "cell_type": "code",
   "execution_count": 76,
   "id": "normal-queensland",
   "metadata": {},
   "outputs": [
    {
     "data": {
      "image/png": "[encoded data removed]",
      "text/plain": [
       "<Figure size 720x360 with 1 Axes>"
      ]
     },
     "metadata": {
      "needs_background": "light"
     },
     "output_type": "display_data"
    }
   ],
   "source": [
    "fig = plt.figure(figsize=(10, 5))\n",
    "  \n",
    "# creating the bar plot\n",
    "plt.bar(p['Decade'],p['Decadal_mean'], color='blue', width=0.4)\n",
    "plt.xlabel(\"Decade\")\n",
    "plt.xticks(rotation=45)\n",
    "plt.ylabel(\"Decadal mean Teamp\")\n",
    "plt.show()"
   ]
  },
  {
   "cell_type": "code",
   "execution_count": null,
   "id": "finite-involvement",
   "metadata": {},
   "outputs": [],
   "source": []
  },
  {
   "cell_type": "code",
   "execution_count": null,
   "id": "trained-antigua",
   "metadata": {},
   "outputs": [],
   "source": []
  }
 ],
 "metadata": {
  "kernelspec": {
   "display_name": "Python 3",
   "language": "python",
   "name": "python3"
  },
  "language_info": {
   "codemirror_mode": {
    "name": "ipython",
    "version": 3
   },
   "file_extension": ".py",
   "mimetype": "text/x-python",
   "name": "python",
   "nbconvert_exporter": "python",
   "pygments_lexer": "ipython3",
   "version": "3.7.9"
  }
 },
 "nbformat": 4,
 "nbformat_minor": 5
}
